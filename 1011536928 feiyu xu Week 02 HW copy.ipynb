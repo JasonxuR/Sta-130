{
 "cells": [
  {
   "cell_type": "markdown",
   "id": "e6e586b0",
   "metadata": {},
   "source": [
    "#### 1. Begin (or restart) part \"3(a)\" of the **TUT Demo** and interact with a ChatBot to make sure you understand how each part the Monte Hall problem code above works"
   ]
  },
  {
   "cell_type": "code",
   "execution_count": null,
   "id": "c68a1db6",
   "metadata": {},
   "outputs": [],
   "source": []
  },
  {
   "cell_type": "markdown",
   "id": "8155e7d7",
   "metadata": {},
   "source": [
    "#### 2. Extend your ChatBot sessions to now address part \"3(b)\" of the **TUT Demo** and interact with your ChatBot to see if it can suggest a simpler, more streamlined way to code up this *for* loop simulation so the process is more clear and easier to understand; then, describe any preferences you have in terms of readibility or explainability  between the original code and the code improvements suggested by the ChatBot<br>"
   ]
  },
  {
   "cell_type": "code",
   "execution_count": null,
   "id": "6e69f462",
   "metadata": {},
   "outputs": [],
   "source": []
  },
  {
   "cell_type": "markdown",
   "id": "e5ecb709",
   "metadata": {},
   "source": [
    "#### 3. Submit your preferred version of the Monty Hall problem that is verified to be running and working with a final printed output of the code; then, add code comments explaining the purpose of each line of the code<br>\n"
   ]
  },
  {
   "cell_type": "code",
   "execution_count": 5,
   "id": "1ba19cbd",
   "metadata": {},
   "outputs": [
    {
     "name": "stdout",
     "output_type": "stream",
     "text": [
      "Winning percentage when switching: 66.77%\n"
     ]
    }
   ],
   "source": [
    "import numpy as np\n",
    "\n",
    "# Setup\n",
    "doors = [1, 2, 3]  # The three doors\n",
    "reps = 100000      # Number of repetitions\n",
    "wins = 0           # Counter to track wins when switching\n",
    "\n",
    "for i in range(reps):\n",
    "    # Randomly pick a winning door\n",
    "    winning_door = np.random.choice(doors)\n",
    "    \n",
    "    # You always pick door 1 first，the first picked door won't affect the final result.\n",
    "    my_choice = 1\n",
    "    \n",
    "    # The host opens a door that is not your choice and not the winning door\n",
    "    available_doors = [door for door in doors if door != my_choice and door != winning_door]\n",
    "    host_opens = np.random.choice(available_doors)\n",
    "    \n",
    "    # You switch to the remaining unopened door\n",
    "    remaining_door = [door for door in doors if door != my_choice and door != host_opens][0]\n",
    "    #Chat did not check the winning percentage if we choose stay\n",
    "    # Check if you win after switching\n",
    "    if remaining_door == winning_door:\n",
    "        wins += 1\n",
    "\n",
    "# Calculate the win percentage when always switching\n",
    "win_percentage = wins / reps\n",
    "print(f\"Winning percentage when switching: {win_percentage * 100:.2f}%\")\n"
   ]
  },
  {
   "cell_type": "markdown",
   "id": "2d471874",
   "metadata": {},
   "source": [
    "#chatbot summary: In our conversation, you shared a Monty Hall simulation code originally provided by Professor Schwartz. This code simulates the famous Monty Hall problem, which involves choosing one of three doors, with one hiding a prize and the others hiding goats. The simulation demonstrates the benefits of switching doors after the host reveals a losing option.\n",
    "\n",
    "I explained the original code in detail, breaking down how it works step by step. At your request, I then provided a simplified version of the code that is easier to understand and avoids complex logic, while still demonstrating that switching doors increases the chances of winning to around 66.7%.\n",
    "chat link:https://chatgpt.com/share/66ecce78-b0b0-8008-b5da-a6f1be7aa7cc"
   ]
  },
  {
   "cell_type": "markdown",
   "id": "a483313e",
   "metadata": {},
   "source": [
    "#### 4. Watch the embedded video tutorial on Markov chains in the next Jupyter cell below to understand their application and relevance for ChatBots; then, after watching the video, start a new ChatBot session by prompting that you have code that creates a \"Markovian ChatBot\"; show it the first version of the \"Markovian ChatBot code\" below; and interact with the ChatBot session to make sure you understand how the original first version of the \"Markovian ChatBot code\" works<br>"
   ]
  },
  {
   "cell_type": "markdown",
   "id": "974d22c4",
   "metadata": {},
   "source": [
    "chatbot summary:In this session, we discussed and analyzed a code snippet related to building a Markov model for a chatbot. The code tracks word sequences, counting how often each word appears and which words follow it. We broke down the code's logic step by step, explaining how the two dictionaries—`word_used` and `next_word`—are used to count word occurrences and track transitions between words, respectively. The model could later be used for generating sentences based on these probabilities. Lastly, the explanation was reformatted into Python comments for better understanding.\n",
    "Chat link:https://chatgpt.com/share/66ecd257-0690-8008-a298-0e6bc1527722"
   ]
  },
  {
   "cell_type": "markdown",
   "id": "7b1e3c79",
   "metadata": {},
   "source": [
    "#### 5. Recreate (or resume) the previous ChatBot session from question \"4\" above, and now  prompt the ChatBot session that you have a couple extensions of the code to show it, and then show it each of the extentions of the \"Markovian ChatBot code\" below in turn\n",
    "\n"
   ]
  },
  {
   "cell_type": "markdown",
   "id": "af9e8cd8",
   "metadata": {},
   "source": [
    "chat session: In this chat session, we discussed two pieces of Python code related to extending a Markovian chatbot. \n",
    "\n",
    "1. **Markovian Chatbot Extension #1**:\n",
    "   - The code uses `defaultdict` to track word usage and predict the next word based on pairs of consecutive words in a text. It counts occurrences of two-word phrases and the words that follow them.\n",
    "\n",
    "2. **Markovian Chatbot Extension #2**:\n",
    "   - This code builds on the first by incorporating character contexts from a dataset (`avatar`). It processes the character names (converting them to uppercase and replacing spaces with dots), and then uses nested dictionaries to count two-word phrases and subsequent words specific to each character.\n",
    "\n",
    "Overall, the session focused on how these implementations enhance the chatbot's ability to generate context-aware responses based on patterns in the text and character-specific data.\n",
    "Chat link:https://chatgpt.com/share/66ecd490-5484-8008-bd5e-f3e63c265f74"
   ]
  },
  {
   "cell_type": "markdown",
   "id": "bf9b18f6",
   "metadata": {},
   "source": [
    "#### 6. Report on your experience interacting with ChatBots to understand the Monte Hall problem and \"Markovian ChatBot\" code\n",
    "\n",
    "1. Discuss how quickly the ChatBot was able to be helpful for each of the above questions, and if so, how?<br><br>\n",
    "    \n",
    "2. Discuss whether or not interacting with ChatBot to try to figure things out was frustrating or unhelpful, and if so, how?<br><br>\n",
    "    \n",
    "3. Based on your experiences to date (e.g., including using ChatBots to troubleshoot coding errors in the previous homework), provide an overall assessment evaluating the usefulness of ChatBots as tools to help you understand code<br>"
   ]
  },
  {
   "cell_type": "markdown",
   "id": "d8d27c1a",
   "metadata": {},
   "source": [
    "1. The chatbot would be able to provide the answer quickly and precisely, it's a lot faster if people want to type the code themselves.\n",
    "2. To some extent, it will be very frustrating if we throw the problem to the chatbot without any explanations or notation. It was specially demonstrated when I was doing the Monte Hall problem. The codes of the Monte Hall problem initially provided by Prof were hard to understand under a poor Python foundation. However, if we ask the chatbot to make it less complicated, the Chatbot would simplify the codes by using the codes you would learn in the first three weeks of CSC108. \n",
    "3. Chatbots are undoubtedly useful as a tool for understanding the codes. It explains the codes with simple languages and provides simple examples if we have a hard time understanding them. Especially for me, I would be more comfortable talking to ChatBot rather than talking to the TA because I don't need to consider if my question is very stupid or not."
   ]
  },
  {
   "cell_type": "markdown",
   "id": "7a680666",
   "metadata": {},
   "source": [
    "#### 7. Reflect on your experience interacting with ChatBot and describe how your perception of AI-driven assistance tools in the context of learning coding, statistics, and data science has been evolving (or not) since joining the course<br><br>\n"
   ]
  },
  {
   "cell_type": "markdown",
   "id": "7c9f3601",
   "metadata": {},
   "source": [
    "I do believe in the future AI would take over most of the job in statistic maybe not even as a assistance but the entire industry is biuld on AI. The phenomenon has already demonstrated during my experience with STA130. When I was searching problems online, people were saying that you need to know AI more than math in statistics. Right now AI was support as a assistance but I do believe with the sustanable developement on AI, it might going to predic the next data based on knowing data, and maybe it's already happened."
   ]
  }
 ],
 "metadata": {
  "kernelspec": {
   "display_name": "Python 3 (ipykernel)",
   "language": "python",
   "name": "python3"
  },
  "language_info": {
   "codemirror_mode": {
    "name": "ipython",
    "version": 3
   },
   "file_extension": ".py",
   "mimetype": "text/x-python",
   "name": "python",
   "nbconvert_exporter": "python",
   "pygments_lexer": "ipython3",
   "version": "3.11.6"
  }
 },
 "nbformat": 4,
 "nbformat_minor": 5
}
