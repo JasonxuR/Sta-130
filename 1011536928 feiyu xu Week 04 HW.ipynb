{
 "cells": [
  {
   "cell_type": "markdown",
   "id": "acbc5828",
   "metadata": {},
   "source": [
    "### 1. The \"Pre-lecture\" video (above) mentioned the \"standard error of the mean\" as being the \"standard deviation\" of the distribution bootstrapped means.  What is the difference between the \"standard error of the mean\" and the \"standard deviation\" of the original data? What distinct ideas do each of these capture? Explain this concisely in your own words.<br>\n"
   ]
  },
  {
   "cell_type": "markdown",
   "id": "8c7efc7b",
   "metadata": {},
   "source": [
    "The \"standard error of the mean\" (SEM) and the \"standard deviation\" (SD) of a dataset are both measures of variability, but they serve different purposes and capture distinct concepts:\n",
    "\n",
    "1. **Standard Deviation (SD):**\n",
    "   - **Definition:** The standard deviation measures the average distance of each data point from the mean of the data set. It quantifies the spread or dispersion of the data points within the dataset.\n",
    "   - **Interpretation:** A larger standard deviation indicates that the data points are more spread out from the mean, while a smaller standard deviation indicates that they are closer to the mean. This measure is used to understand the variability in the original dataset itself.\n",
    "\n",
    "2. **Standard Error of the Mean (SEM):**\n",
    "   - **Definition:** The standard error of the mean quantifies the precision with which the sample mean estimates the population mean. It is calculated as the standard deviation of the dataset divided by the square root of the sample size (\\(\\text{SEM} = \\frac{\\text{SD}}{\\sqrt{n}}\\)).\n",
    "   - **Interpretation:** The SEM gives an idea of how much the calculated mean of the sample would vary if you were to repeatedly sample from the same population. A smaller SEM indicates a more precise estimate of the population mean. This measure is particularly useful in inferential statistics when you want to make conclusions about the population from which the sample was drawn.\n",
    "\n",
    "**Distinct Ideas Captured:**\n",
    "- **SD:** Captures the variability or dispersion of individual data points around the mean within a given sample or population.\n",
    "- **SEM:** Captures the accuracy or precision of the sample mean as an estimate of the population mean, reflecting how much the mean value might vary if different samples are taken from the same population.\n",
    "\n",
    "In summary, while the standard deviation is a direct measure of the variability within the data set, the standard error of the mean focuses on the variability of the sample mean as an estimator of the population mean.\n"
   ]
  },
  {
   "cell_type": "markdown",
   "id": "3c9417be",
   "metadata": {},
   "source": [
    "chatbot link:https://chatgpt.com/share/66ff4164-e378-8009-9608-1c20ad825c72\n",
    "Chat bot summary:In this session, we discussed the differences between the \"standard error of the mean\" (SEM) and the \"standard deviation\" (SD) of a dataset. Here’s a brief summary:\n",
    "\n",
    "- **Standard Deviation (SD)** measures the average distance of each data point from the mean, indicating the spread or dispersion within the dataset itself.\n",
    "- **Standard Error of the Mean (SEM)** measures the precision with which the sample mean estimates the population mean. It is calculated as the SD divided by the square root of the sample size, and it indicates how much the sample mean would vary if different samples are taken from the same population.\n",
    "\n",
    "We clarified that SD captures the variability of the data, while SEM focuses on the variability of the sample mean in estimating the population mean."
   ]
  },
  {
   "cell_type": "markdown",
   "id": "fce3221d",
   "metadata": {},
   "source": [
    "### 6. Provide written answers explaining the answers to the following questions in an informal manner of a conversation with a friend with little experience with statistics. <br>\n",
    "\n",
    "1. What is the process of bootstrapping? \n",
    "2. What is the main purpose of bootstrapping? \n",
    "3. If you had a (hypothesized) guess about what the average of a population was, and you had a sample of size n from that population, how could you use bootstrapping to assess whether or not your (hypothesized) guess might be plausible?\n",
    "   \n",
    "<details class=\"details-example\"><summary style=\"color:blue\"><u>Further Guidance</u></summary>\n",
    "\n",
    "> _Your answers to the previous questions 3-5 above (and the \"Further Guidance\" comments in question 3) should be very helpful for answering this question; but, they are very likely be more technical than would be useful for explaining these ideas to your friends. Work to use descriptive and intuitive language in your explaination._\n",
    "\n",
    "</details>"
   ]
  },
  {
   "cell_type": "markdown",
   "id": "2f9fe468",
   "metadata": {},
   "source": [
    "1.  a) It randomly picking out data from a unknown number of parameter dataset which a single data could be select more than once.\n",
    "    b) It will start to calculate their informations like mean and median from the bootstrapping sample.\n",
    "    c) Repeat the above step to create a large amount of dataset and compute the data.\n",
    "    d) Create distribution and estimate the confidence interval or the hypothesis testing.\n",
    "2.  The purpose of bootstring is by repeating randmly collect data from the data set to create multiple bootstrapping sample and to get the estimate confidence interval and hypothesis testing.\n",
    "3. Use bootstrapping to proccess my data to see if the hypothesized guess mathcing the Hypothesis testing."
   ]
  },
  {
   "cell_type": "markdown",
   "id": "fde2b2bb",
   "metadata": {},
   "source": [
    "### 8. Complete the following assignment. \n"
   ]
  },
  {
   "cell_type": "markdown",
   "id": "d069d04d",
   "metadata": {},
   "source": [
    "### Vaccine Data Analysis Assignment\n",
    "\n",
    "**Overview**\n",
    "\n",
    "The company AliTech has created a new vaccine that aims to improve the health of the people who take it. Your job is to use what you have learned in the course to give evidence for whether or not the vaccine is effective. \n",
    "\n",
    "**Data**\n",
    "AliTech has released the following data.\n",
    "\n",
    "```csv\n",
    "PatientID,Age,Gender,InitialHealthScore,FinalHealthScore\n",
    "1,45,M,84,86\n",
    "2,34,F,78,86\n",
    "3,29,M,83,80\n",
    "4,52,F,81,86\n",
    "5,37,M,81,84\n",
    "6,41,F,80,86\n",
    "7,33,M,79,86\n",
    "8,48,F,85,82\n",
    "9,26,M,76,83\n",
    "10,39,F,83,84\n",
    "```\n",
    "\n",
    "**Deliverables**\n",
    "While you can choose how to approach this project, the most obvious path would be to use bootstrapping, follow the analysis presented in the \"Pre-lecture\" HW video (above). Nonetheless, we are  primarily interested in evaluating your report relative to the following deliverables.\n",
    "\n",
    "- A visual presentation giving some initial insight into the comparison of interest.\n",
    "- A quantitative analysis of the data and an explanation of the method and purpose of this method.\n",
    "- A conclusion regarding a null hypothesis of \"no effect\" after analyzing the data with your methodology.\n",
    "- The clarity of your documentation, code, and written report. \n",
    "\n",
    "> Consider organizing your report within the following outline template.\n",
    "> - Problem Introduction \n",
    ">     - An explaination of the meaning of a Null Hypothesis of \"no effect\" in this context\n",
    ">     - Data Visualization (motivating and illustrating the comparison of interest)\n",
    "> - Quantitative Analysis\n",
    ">     - Methodology Code and Explanations\n",
    ">     - Supporting Visualizations\n",
    "> - Findings and Discussion\n",
    ">     - Conclusion regarding a Null Hypothesis of \"no effect\"\n",
    ">     - Further Considerations\n",
    "\n",
    "**Further Instructions**\n",
    "- When using random functions, you should make your analysis reproducible by using the `np.random.seed()` function\n",
    "- Create a CSV file and read that file in with your code, but **do not** include the CSV file along with your submission\n"
   ]
  },
  {
   "cell_type": "markdown",
   "id": "c9e74cef",
   "metadata": {},
   "source": [
    "Problem Introduction:\n",
    "    1. The meaning of Null hypothesis of \"no effect\" is that the hypothesis has no effect to the object of study.\n",
    "    under this case, the null hypothesis would be the drug has no effect to the patient.the \n"
   ]
  },
  {
   "cell_type": "code",
   "execution_count": 5,
   "id": "ae3d588a",
   "metadata": {},
   "outputs": [
    {
     "data": {
      "text/html": [
       "<div>\n",
       "<style scoped>\n",
       "    .dataframe tbody tr th:only-of-type {\n",
       "        vertical-align: middle;\n",
       "    }\n",
       "\n",
       "    .dataframe tbody tr th {\n",
       "        vertical-align: top;\n",
       "    }\n",
       "\n",
       "    .dataframe thead th {\n",
       "        text-align: right;\n",
       "    }\n",
       "</style>\n",
       "<table border=\"1\" class=\"dataframe\">\n",
       "  <thead>\n",
       "    <tr style=\"text-align: right;\">\n",
       "      <th></th>\n",
       "      <th>PatientID</th>\n",
       "      <th>Age</th>\n",
       "      <th>Gender</th>\n",
       "      <th>InitialHealthScore</th>\n",
       "      <th>FinalHealthScore</th>\n",
       "      <th>difference</th>\n",
       "    </tr>\n",
       "  </thead>\n",
       "  <tbody>\n",
       "    <tr>\n",
       "      <th>0</th>\n",
       "      <td>1</td>\n",
       "      <td>45</td>\n",
       "      <td>M</td>\n",
       "      <td>84</td>\n",
       "      <td>86</td>\n",
       "      <td>2</td>\n",
       "    </tr>\n",
       "    <tr>\n",
       "      <th>1</th>\n",
       "      <td>2</td>\n",
       "      <td>34</td>\n",
       "      <td>F</td>\n",
       "      <td>78</td>\n",
       "      <td>86</td>\n",
       "      <td>8</td>\n",
       "    </tr>\n",
       "    <tr>\n",
       "      <th>2</th>\n",
       "      <td>3</td>\n",
       "      <td>29</td>\n",
       "      <td>M</td>\n",
       "      <td>83</td>\n",
       "      <td>80</td>\n",
       "      <td>-3</td>\n",
       "    </tr>\n",
       "    <tr>\n",
       "      <th>3</th>\n",
       "      <td>4</td>\n",
       "      <td>52</td>\n",
       "      <td>F</td>\n",
       "      <td>81</td>\n",
       "      <td>86</td>\n",
       "      <td>5</td>\n",
       "    </tr>\n",
       "    <tr>\n",
       "      <th>4</th>\n",
       "      <td>5</td>\n",
       "      <td>37</td>\n",
       "      <td>M</td>\n",
       "      <td>81</td>\n",
       "      <td>84</td>\n",
       "      <td>3</td>\n",
       "    </tr>\n",
       "    <tr>\n",
       "      <th>5</th>\n",
       "      <td>6</td>\n",
       "      <td>41</td>\n",
       "      <td>F</td>\n",
       "      <td>80</td>\n",
       "      <td>86</td>\n",
       "      <td>6</td>\n",
       "    </tr>\n",
       "    <tr>\n",
       "      <th>6</th>\n",
       "      <td>7</td>\n",
       "      <td>33</td>\n",
       "      <td>M</td>\n",
       "      <td>79</td>\n",
       "      <td>86</td>\n",
       "      <td>7</td>\n",
       "    </tr>\n",
       "    <tr>\n",
       "      <th>7</th>\n",
       "      <td>8</td>\n",
       "      <td>48</td>\n",
       "      <td>F</td>\n",
       "      <td>85</td>\n",
       "      <td>82</td>\n",
       "      <td>-3</td>\n",
       "    </tr>\n",
       "    <tr>\n",
       "      <th>8</th>\n",
       "      <td>9</td>\n",
       "      <td>26</td>\n",
       "      <td>M</td>\n",
       "      <td>76</td>\n",
       "      <td>83</td>\n",
       "      <td>7</td>\n",
       "    </tr>\n",
       "    <tr>\n",
       "      <th>9</th>\n",
       "      <td>10</td>\n",
       "      <td>39</td>\n",
       "      <td>F</td>\n",
       "      <td>83</td>\n",
       "      <td>84</td>\n",
       "      <td>1</td>\n",
       "    </tr>\n",
       "  </tbody>\n",
       "</table>\n",
       "</div>"
      ],
      "text/plain": [
       "   PatientID  Age Gender  InitialHealthScore  FinalHealthScore  difference\n",
       "0          1   45      M                  84                86           2\n",
       "1          2   34      F                  78                86           8\n",
       "2          3   29      M                  83                80          -3\n",
       "3          4   52      F                  81                86           5\n",
       "4          5   37      M                  81                84           3\n",
       "5          6   41      F                  80                86           6\n",
       "6          7   33      M                  79                86           7\n",
       "7          8   48      F                  85                82          -3\n",
       "8          9   26      M                  76                83           7\n",
       "9         10   39      F                  83                84           1"
      ]
     },
     "execution_count": 5,
     "metadata": {},
     "output_type": "execute_result"
    }
   ],
   "source": [
    "#for question 1(b)\n",
    "import pandas as pd\n",
    "\n",
    "# Creating a DataFrame with the given data\n",
    "data = {\n",
    "    \"PatientID\": [1, 2, 3, 4, 5, 6, 7, 8, 9, 10],\n",
    "    \"Age\": [45, 34, 29, 52, 37, 41, 33, 48, 26, 39],\n",
    "    \"Gender\": [\"M\", \"F\", \"M\", \"F\", \"M\", \"F\", \"M\", \"F\", \"M\", \"F\"],\n",
    "    \"InitialHealthScore\": [84, 78, 83, 81, 81, 80, 79, 85, 76, 83],\n",
    "    \"FinalHealthScore\": [86, 86, 80, 86, 84, 86, 86, 82, 83, 84]\n",
    "}\n",
    "\n",
    "df = pd.DataFrame(data)\n",
    "df[\"difference\"]=df.FinalHealthScore-df.InitialHealthScore\n",
    "df"
   ]
  },
  {
   "cell_type": "code",
   "execution_count": 18,
   "id": "9b75996b",
   "metadata": {},
   "outputs": [
    {
     "data": {
      "application/vnd.plotly.v1+json": {
       "config": {
        "plotlyServerURL": "https://plot.ly"
       },
       "data": [
        {
         "alignmentgroup": "True",
         "bingroup": "x",
         "hovertemplate": "Bootstrapped Means=%{x}<br>count=%{y}<extra></extra>",
         "legendgroup": "",
         "marker": {
          "color": "#636efa",
          "pattern": {
           "shape": ""
          }
         },
         "name": "",
         "offsetgroup": "",
         "orientation": "v",
         "showlegend": false,
         "type": "histogram",
         "x": [
          2.9,
          1.9,
          3.3,
          3.2,
          2.8,
          3.5,
          3.7,
          3.7,
          4.2,
          4.1,
          3.5,
          2.8,
          2.6,
          4.1,
          3.7,
          1.9,
          2.4,
          4.7,
          4.7,
          4.5,
          3.2,
          1.8,
          4.7,
          6.5,
          3.3,
          2.6,
          3.1,
          4.8,
          2.8,
          2.9,
          4.4,
          5.4,
          5.9,
          2.2,
          4,
          1.7,
          2.4,
          2.4,
          4.9,
          3.5,
          3.3,
          3.3,
          1.9,
          1.8,
          5.1,
          4.4,
          3,
          2.3,
          3.9,
          2.8,
          5.4,
          4,
          4.5,
          2,
          4.2,
          3,
          4,
          -0.2,
          3.4,
          4.6,
          3.2,
          3.8,
          4,
          1.9,
          1.2,
          4.3,
          1.8,
          4.2,
          5.1,
          4.6,
          1.5,
          1.6,
          0.9,
          2.8,
          3.3,
          4.5,
          6.6,
          3.8,
          1.2,
          5.2,
          3.1,
          4.7,
          4,
          2,
          3.9,
          4.8,
          1.3,
          3.7,
          4.1,
          2.9,
          4.6,
          2.7,
          3.9,
          3.2,
          4,
          3.7,
          3.3,
          4.3,
          3.7,
          5.8,
          1.9,
          5.3,
          2.7,
          2.5,
          2.6,
          3.9,
          3.9,
          1.9,
          3.9,
          4.7,
          3.6,
          1.8,
          4.9,
          4.4,
          3.5,
          2.5,
          4.4,
          3.7,
          3.5,
          3.7,
          1.3,
          1.1,
          0.8,
          2.5,
          3,
          2.8,
          3.5,
          4.1,
          2.2,
          3.4,
          4,
          4.3,
          3.3,
          3.1,
          3.6,
          3,
          3,
          3.9,
          4.3,
          3.8,
          3.6,
          1.9,
          3.9,
          3.2,
          5,
          4.9,
          2.5,
          3.6,
          3.7,
          3.5,
          4.2,
          3.1,
          3.8,
          3.2,
          6,
          6.2,
          4,
          4.3,
          3.4,
          2.5,
          3.1,
          2.3,
          4.2,
          2,
          3.7,
          0.8,
          2.6,
          4.3,
          4.9,
          3.2,
          2.7,
          3.7,
          3.2,
          1.2,
          4.1,
          2.1,
          4.9,
          4.1,
          2.6,
          3.6,
          3.1,
          2.4,
          2.6,
          3.2,
          4.5,
          3.7,
          3.6,
          2.2,
          1.1,
          3.5,
          5.2,
          2.3,
          2.6,
          5,
          2.2,
          2.1,
          4.8,
          1.8,
          3.8,
          3.4,
          4.6,
          3.8,
          1.9,
          4.2,
          2.5,
          4,
          4.8,
          3.1,
          2.7,
          2.5,
          3.1,
          4.4,
          1.5,
          3.6,
          2,
          4.2,
          4.8,
          2,
          3.5,
          2.5,
          3.7,
          3.5,
          5.7,
          2.2,
          4.3,
          3.7,
          4.6,
          4.4,
          3.5,
          4.7,
          2.6,
          2.5,
          3.4,
          4,
          3.5,
          2.1,
          2.9,
          2.8,
          1.6,
          4,
          4.3,
          0.5,
          4.2,
          4,
          3.1,
          3.9,
          5.1,
          3.7,
          5.5,
          2.1,
          1.7,
          2,
          2.8,
          4.9,
          5.1,
          2.6,
          4.6,
          1.6,
          2.7,
          3.2,
          3.7,
          3.3,
          3.8,
          2.9,
          1.2,
          4.5,
          1.5,
          3.5,
          4.7,
          3.8,
          4.5,
          2.2,
          0.7,
          3.3,
          2.6,
          5.6,
          3.9,
          4.8,
          3.6,
          1.4,
          2.4,
          3.3,
          5.6,
          3,
          4.8,
          1,
          4.5,
          1.9,
          2.7,
          0.8,
          5.4,
          1.6,
          2.5,
          5.7,
          6.2,
          1.9,
          1.7,
          1.5,
          5,
          2.3,
          2.7,
          2.7,
          3.7,
          3.7,
          1.6,
          5.5,
          3.3,
          4.5,
          4.7,
          4.1,
          3.6,
          5.2,
          4.7,
          4.1,
          3.6,
          2.7,
          1.5,
          4.6,
          3.6,
          2.5,
          4,
          4.8,
          3.8,
          2.7,
          4.4,
          4.6,
          4.6,
          3.6,
          4.3,
          3.6,
          3.8,
          3,
          3.5,
          4.9,
          1.3,
          2.6,
          2.5,
          2.7,
          3.8,
          4.5,
          4,
          3.7,
          4.4,
          5.8,
          3.3,
          3.7,
          4.2,
          3.7,
          4.7,
          1.1,
          3.9,
          4.1,
          1.2,
          1.5,
          2.3,
          5.4,
          2.6,
          3.8,
          3.1,
          2.7,
          4.4,
          4.4,
          3.2,
          1.2,
          4.1,
          5.4,
          1.7,
          1.7,
          2.9,
          4.2,
          4.3,
          3.7,
          3.6,
          2.5,
          4.3,
          2.8,
          3,
          2.5,
          2.5,
          2.7,
          4.4,
          3.9,
          2.6,
          0.9,
          2.1,
          2.1,
          2.2,
          3.2,
          4.7,
          4.4,
          1.6,
          4.8,
          6,
          3.9,
          4.3,
          3.5,
          3.7,
          0.9,
          2.2,
          3.1,
          2.2,
          1.6,
          4.1,
          1.2,
          5.3,
          3.2,
          0.8,
          3.6,
          1.9,
          3.4,
          4.1,
          3.6,
          3.4,
          3.9,
          3.8,
          3.1,
          3.6,
          3.5,
          2.7,
          3.4,
          0.4,
          2.4,
          1.5,
          5.3,
          1.5,
          4.3,
          0.8,
          3.3,
          3.7,
          2.2,
          3.8,
          0.3,
          2.5,
          2.7,
          3.4,
          2.3,
          4.4,
          0.4,
          4.9,
          4.3,
          4.6,
          2.6,
          2.4,
          3,
          3.3,
          2.6,
          2.9,
          2.4,
          1.2,
          3.7,
          2.8,
          3.4,
          2.6,
          3.1,
          1.7,
          1.9,
          3.1,
          3.3,
          3.1,
          3.5,
          5.1,
          2.7,
          6.2,
          1.8,
          1.4,
          2.8,
          1,
          5.2,
          4.7,
          3.7,
          2.7,
          2.1,
          4.2,
          1.9,
          4.1,
          2.4,
          2.6,
          2.7,
          5,
          2.3,
          3.3,
          3.9,
          1.9,
          1.9,
          3.5,
          2.3,
          2,
          3,
          3.7,
          3,
          2.2,
          2.9,
          2.4,
          -0.1,
          1.9,
          2.2,
          3.3,
          4.5,
          2.5,
          4,
          3.4,
          1.9,
          4.7,
          3.4,
          2.9,
          3.1,
          3.2,
          3,
          3.6,
          3.2,
          1.8,
          -0.2,
          2.9,
          2.6,
          5,
          3.4,
          2.9,
          3.2,
          3.2,
          1.8,
          4.3,
          5.1,
          2.2,
          3.4,
          3.9,
          4.4,
          4,
          5,
          1.9,
          4.1,
          3.7,
          1.4,
          1.8,
          2.6,
          3.8,
          3,
          2.1,
          4,
          2.4,
          5.6,
          3.2,
          3,
          4,
          2.8,
          -0.2,
          4,
          2.9,
          3.4,
          3.7,
          4.7,
          2.9,
          4.4,
          5,
          3.3,
          4.5,
          3.2,
          5.2,
          3.4,
          2,
          4.9,
          4.5,
          3.7,
          2.8,
          4.4,
          4.5,
          2.4,
          3.9,
          3.9,
          2.8,
          4.6,
          2.8,
          2.6,
          4.1,
          4.5,
          5.1,
          3.5,
          3.4,
          5.1,
          5,
          4.8,
          3.4,
          3.5,
          2.4,
          3.8,
          4.8,
          2.6,
          4.2,
          3.3,
          3.2,
          3.3,
          4.2,
          4.1,
          2.9,
          1.7,
          4.5,
          2.8,
          4,
          2.2,
          1.9,
          4.5,
          3.7,
          4.8,
          4.6,
          3.2,
          3.1,
          1.7,
          4.2,
          2.7,
          3.7,
          2.9,
          2.2,
          2.2,
          4.1,
          4.3,
          5.3,
          1.8,
          4.1,
          3,
          2.7,
          5.4,
          4.3,
          4.4,
          6,
          3.2,
          5,
          4.1,
          3,
          3.5,
          3.4,
          5.2,
          3.7,
          2.6,
          3.4,
          4.4,
          4.9,
          2.3,
          2.3,
          3.3,
          4,
          2.2,
          2.7,
          3.2,
          2.5,
          3.3,
          2.9,
          2.8,
          5.5,
          3.3,
          1.7,
          3.3,
          4,
          3.4,
          5.3,
          2,
          2.1,
          1.6,
          3,
          5.6,
          5.9,
          5.1,
          4.7,
          2.8,
          4.7,
          2.2,
          2.2,
          2.6,
          5.8,
          1.5,
          2.9,
          3.3,
          5,
          2.1,
          1.1,
          4.2,
          2.2,
          5.1,
          5.6,
          2.3,
          3.5,
          2.9,
          3.5,
          3.2,
          3,
          3.4,
          2.8,
          6,
          0.4,
          2.3,
          0.9,
          3.6,
          0.9,
          3.9,
          4.5,
          4.2,
          5.3,
          2.4,
          3.7,
          5.3,
          3.6,
          1.8,
          1.9,
          4.1,
          3.6,
          2.4,
          4,
          3.5,
          2,
          2.7,
          2.8,
          4.5,
          4.2,
          3.3,
          3.6,
          3.3,
          4,
          5.4,
          3.7,
          3.7,
          2.7,
          3.5,
          3,
          2.8,
          2.7,
          2.8,
          2.7,
          3.3,
          2.8,
          2.7,
          3.8,
          3.6,
          2.7,
          5.1,
          4.7,
          3.5,
          3.4,
          2.7,
          3,
          4.7,
          2,
          4.6,
          3,
          2,
          2.4,
          3.7,
          3.9,
          5.8,
          3.9,
          2.9,
          4.2,
          1.1,
          3.8,
          3.2,
          3,
          2.3,
          2,
          5.8,
          1,
          3.3,
          4.6,
          4.6,
          3.8,
          3,
          1.7,
          2,
          1.9,
          2.6,
          1,
          4.8,
          2,
          3.1,
          4,
          4.4,
          3.6,
          3.2,
          3.9,
          4.3,
          5.1,
          4.8,
          1.8,
          3.8,
          3.9,
          3.9,
          3.2,
          3.5,
          4.3,
          2.1,
          2.5,
          2.1,
          3.9,
          4.1,
          2.3,
          3.3,
          3.3,
          1.5,
          1.5,
          1.6,
          3.5,
          4.3,
          1.7,
          2.8,
          4.3,
          2.8,
          3.7,
          1.4,
          1.7,
          3.3,
          1.9,
          2.3,
          3.1,
          3.2,
          3,
          4.1,
          5.8,
          4.5,
          3.5,
          2.7,
          3.6,
          4.7,
          3.5,
          4.6,
          4.3,
          2.1,
          3.5,
          0.9,
          6,
          3.2,
          0.7,
          1.1,
          2.8,
          2.9,
          3,
          3.8,
          3.7,
          3.8,
          0.7,
          1.1,
          3.8,
          2.5,
          1.9,
          3.7,
          2.2,
          2.5,
          3.8,
          2.6,
          1.2,
          3.3,
          2.5,
          3.1,
          2.4,
          2.9,
          2.7,
          4.3,
          4.1,
          4.1,
          1.8,
          1.9,
          1.2,
          4.2,
          3.4,
          3.3,
          3.1,
          3.4,
          4.5,
          5.7,
          2.9,
          2.2,
          4,
          4.2,
          5.2,
          4.6,
          3.4,
          3.4,
          3.4,
          2.6,
          2,
          4,
          4.5,
          4.7,
          4.1,
          3.9,
          3.4,
          3,
          5.5,
          1.7,
          2.5,
          3.9,
          4.6,
          2.8,
          4.3,
          3.9,
          1.9,
          2.1,
          2.1,
          1.9,
          5.4,
          2.9,
          0.8,
          4.9,
          3,
          3.4,
          3.4,
          6.5,
          2.7,
          2.8,
          2.1,
          3.4,
          3,
          4.6,
          3.8,
          3.5,
          2.2,
          4.4,
          5.4,
          3.8,
          1.4,
          4.5,
          4.1,
          1.9,
          4.2,
          2.4,
          2.2,
          1.8,
          2.9,
          3.5,
          3.7,
          5.8,
          3.4,
          2.3,
          2.9,
          2.2,
          4.2,
          4.2,
          3.1,
          3.8,
          1.7,
          5.9,
          5.5,
          1.5,
          4.4,
          4.6,
          4.5,
          2.5,
          4.2,
          3.4,
          3.8,
          1.4,
          4.8,
          1.8,
          3.7,
          1.7,
          3.4,
          1.6,
          3.9,
          3,
          3.9,
          4.3,
          5.5,
          3.4,
          2.4,
          4.2,
          3.3,
          2.8,
          3.9,
          2.1,
          1.8,
          4.5,
          3.1,
          4.6,
          3.1,
          0.9,
          3.1,
          4.3,
          2.9,
          3,
          2.9,
          4.1,
          2.3,
          3.3,
          4.2,
          2.9,
          2.7,
          2.2,
          3.1,
          3.7,
          4.3,
          4.8,
          1.5,
          3.9,
          2.6,
          3.9,
          2.9,
          4,
          3.4,
          1.6,
          3.4,
          3.8,
          2.6,
          1.5,
          3.4,
          3.9
         ],
         "xaxis": "x",
         "yaxis": "y"
        }
       ],
       "layout": {
        "barmode": "relative",
        "legend": {
         "tracegroupgap": 0
        },
        "margin": {
         "t": 60
        },
        "template": {
         "data": {
          "bar": [
           {
            "error_x": {
             "color": "#2a3f5f"
            },
            "error_y": {
             "color": "#2a3f5f"
            },
            "marker": {
             "line": {
              "color": "#E5ECF6",
              "width": 0.5
             },
             "pattern": {
              "fillmode": "overlay",
              "size": 10,
              "solidity": 0.2
             }
            },
            "type": "bar"
           }
          ],
          "barpolar": [
           {
            "marker": {
             "line": {
              "color": "#E5ECF6",
              "width": 0.5
             },
             "pattern": {
              "fillmode": "overlay",
              "size": 10,
              "solidity": 0.2
             }
            },
            "type": "barpolar"
           }
          ],
          "carpet": [
           {
            "aaxis": {
             "endlinecolor": "#2a3f5f",
             "gridcolor": "white",
             "linecolor": "white",
             "minorgridcolor": "white",
             "startlinecolor": "#2a3f5f"
            },
            "baxis": {
             "endlinecolor": "#2a3f5f",
             "gridcolor": "white",
             "linecolor": "white",
             "minorgridcolor": "white",
             "startlinecolor": "#2a3f5f"
            },
            "type": "carpet"
           }
          ],
          "choropleth": [
           {
            "colorbar": {
             "outlinewidth": 0,
             "ticks": ""
            },
            "type": "choropleth"
           }
          ],
          "contour": [
           {
            "colorbar": {
             "outlinewidth": 0,
             "ticks": ""
            },
            "colorscale": [
             [
              0,
              "#0d0887"
             ],
             [
              0.1111111111111111,
              "#46039f"
             ],
             [
              0.2222222222222222,
              "#7201a8"
             ],
             [
              0.3333333333333333,
              "#9c179e"
             ],
             [
              0.4444444444444444,
              "#bd3786"
             ],
             [
              0.5555555555555556,
              "#d8576b"
             ],
             [
              0.6666666666666666,
              "#ed7953"
             ],
             [
              0.7777777777777778,
              "#fb9f3a"
             ],
             [
              0.8888888888888888,
              "#fdca26"
             ],
             [
              1,
              "#f0f921"
             ]
            ],
            "type": "contour"
           }
          ],
          "contourcarpet": [
           {
            "colorbar": {
             "outlinewidth": 0,
             "ticks": ""
            },
            "type": "contourcarpet"
           }
          ],
          "heatmap": [
           {
            "colorbar": {
             "outlinewidth": 0,
             "ticks": ""
            },
            "colorscale": [
             [
              0,
              "#0d0887"
             ],
             [
              0.1111111111111111,
              "#46039f"
             ],
             [
              0.2222222222222222,
              "#7201a8"
             ],
             [
              0.3333333333333333,
              "#9c179e"
             ],
             [
              0.4444444444444444,
              "#bd3786"
             ],
             [
              0.5555555555555556,
              "#d8576b"
             ],
             [
              0.6666666666666666,
              "#ed7953"
             ],
             [
              0.7777777777777778,
              "#fb9f3a"
             ],
             [
              0.8888888888888888,
              "#fdca26"
             ],
             [
              1,
              "#f0f921"
             ]
            ],
            "type": "heatmap"
           }
          ],
          "heatmapgl": [
           {
            "colorbar": {
             "outlinewidth": 0,
             "ticks": ""
            },
            "colorscale": [
             [
              0,
              "#0d0887"
             ],
             [
              0.1111111111111111,
              "#46039f"
             ],
             [
              0.2222222222222222,
              "#7201a8"
             ],
             [
              0.3333333333333333,
              "#9c179e"
             ],
             [
              0.4444444444444444,
              "#bd3786"
             ],
             [
              0.5555555555555556,
              "#d8576b"
             ],
             [
              0.6666666666666666,
              "#ed7953"
             ],
             [
              0.7777777777777778,
              "#fb9f3a"
             ],
             [
              0.8888888888888888,
              "#fdca26"
             ],
             [
              1,
              "#f0f921"
             ]
            ],
            "type": "heatmapgl"
           }
          ],
          "histogram": [
           {
            "marker": {
             "pattern": {
              "fillmode": "overlay",
              "size": 10,
              "solidity": 0.2
             }
            },
            "type": "histogram"
           }
          ],
          "histogram2d": [
           {
            "colorbar": {
             "outlinewidth": 0,
             "ticks": ""
            },
            "colorscale": [
             [
              0,
              "#0d0887"
             ],
             [
              0.1111111111111111,
              "#46039f"
             ],
             [
              0.2222222222222222,
              "#7201a8"
             ],
             [
              0.3333333333333333,
              "#9c179e"
             ],
             [
              0.4444444444444444,
              "#bd3786"
             ],
             [
              0.5555555555555556,
              "#d8576b"
             ],
             [
              0.6666666666666666,
              "#ed7953"
             ],
             [
              0.7777777777777778,
              "#fb9f3a"
             ],
             [
              0.8888888888888888,
              "#fdca26"
             ],
             [
              1,
              "#f0f921"
             ]
            ],
            "type": "histogram2d"
           }
          ],
          "histogram2dcontour": [
           {
            "colorbar": {
             "outlinewidth": 0,
             "ticks": ""
            },
            "colorscale": [
             [
              0,
              "#0d0887"
             ],
             [
              0.1111111111111111,
              "#46039f"
             ],
             [
              0.2222222222222222,
              "#7201a8"
             ],
             [
              0.3333333333333333,
              "#9c179e"
             ],
             [
              0.4444444444444444,
              "#bd3786"
             ],
             [
              0.5555555555555556,
              "#d8576b"
             ],
             [
              0.6666666666666666,
              "#ed7953"
             ],
             [
              0.7777777777777778,
              "#fb9f3a"
             ],
             [
              0.8888888888888888,
              "#fdca26"
             ],
             [
              1,
              "#f0f921"
             ]
            ],
            "type": "histogram2dcontour"
           }
          ],
          "mesh3d": [
           {
            "colorbar": {
             "outlinewidth": 0,
             "ticks": ""
            },
            "type": "mesh3d"
           }
          ],
          "parcoords": [
           {
            "line": {
             "colorbar": {
              "outlinewidth": 0,
              "ticks": ""
             }
            },
            "type": "parcoords"
           }
          ],
          "pie": [
           {
            "automargin": true,
            "type": "pie"
           }
          ],
          "scatter": [
           {
            "fillpattern": {
             "fillmode": "overlay",
             "size": 10,
             "solidity": 0.2
            },
            "type": "scatter"
           }
          ],
          "scatter3d": [
           {
            "line": {
             "colorbar": {
              "outlinewidth": 0,
              "ticks": ""
             }
            },
            "marker": {
             "colorbar": {
              "outlinewidth": 0,
              "ticks": ""
             }
            },
            "type": "scatter3d"
           }
          ],
          "scattercarpet": [
           {
            "marker": {
             "colorbar": {
              "outlinewidth": 0,
              "ticks": ""
             }
            },
            "type": "scattercarpet"
           }
          ],
          "scattergeo": [
           {
            "marker": {
             "colorbar": {
              "outlinewidth": 0,
              "ticks": ""
             }
            },
            "type": "scattergeo"
           }
          ],
          "scattergl": [
           {
            "marker": {
             "colorbar": {
              "outlinewidth": 0,
              "ticks": ""
             }
            },
            "type": "scattergl"
           }
          ],
          "scattermapbox": [
           {
            "marker": {
             "colorbar": {
              "outlinewidth": 0,
              "ticks": ""
             }
            },
            "type": "scattermapbox"
           }
          ],
          "scatterpolar": [
           {
            "marker": {
             "colorbar": {
              "outlinewidth": 0,
              "ticks": ""
             }
            },
            "type": "scatterpolar"
           }
          ],
          "scatterpolargl": [
           {
            "marker": {
             "colorbar": {
              "outlinewidth": 0,
              "ticks": ""
             }
            },
            "type": "scatterpolargl"
           }
          ],
          "scatterternary": [
           {
            "marker": {
             "colorbar": {
              "outlinewidth": 0,
              "ticks": ""
             }
            },
            "type": "scatterternary"
           }
          ],
          "surface": [
           {
            "colorbar": {
             "outlinewidth": 0,
             "ticks": ""
            },
            "colorscale": [
             [
              0,
              "#0d0887"
             ],
             [
              0.1111111111111111,
              "#46039f"
             ],
             [
              0.2222222222222222,
              "#7201a8"
             ],
             [
              0.3333333333333333,
              "#9c179e"
             ],
             [
              0.4444444444444444,
              "#bd3786"
             ],
             [
              0.5555555555555556,
              "#d8576b"
             ],
             [
              0.6666666666666666,
              "#ed7953"
             ],
             [
              0.7777777777777778,
              "#fb9f3a"
             ],
             [
              0.8888888888888888,
              "#fdca26"
             ],
             [
              1,
              "#f0f921"
             ]
            ],
            "type": "surface"
           }
          ],
          "table": [
           {
            "cells": {
             "fill": {
              "color": "#EBF0F8"
             },
             "line": {
              "color": "white"
             }
            },
            "header": {
             "fill": {
              "color": "#C8D4E3"
             },
             "line": {
              "color": "white"
             }
            },
            "type": "table"
           }
          ]
         },
         "layout": {
          "annotationdefaults": {
           "arrowcolor": "#2a3f5f",
           "arrowhead": 0,
           "arrowwidth": 1
          },
          "autotypenumbers": "strict",
          "coloraxis": {
           "colorbar": {
            "outlinewidth": 0,
            "ticks": ""
           }
          },
          "colorscale": {
           "diverging": [
            [
             0,
             "#8e0152"
            ],
            [
             0.1,
             "#c51b7d"
            ],
            [
             0.2,
             "#de77ae"
            ],
            [
             0.3,
             "#f1b6da"
            ],
            [
             0.4,
             "#fde0ef"
            ],
            [
             0.5,
             "#f7f7f7"
            ],
            [
             0.6,
             "#e6f5d0"
            ],
            [
             0.7,
             "#b8e186"
            ],
            [
             0.8,
             "#7fbc41"
            ],
            [
             0.9,
             "#4d9221"
            ],
            [
             1,
             "#276419"
            ]
           ],
           "sequential": [
            [
             0,
             "#0d0887"
            ],
            [
             0.1111111111111111,
             "#46039f"
            ],
            [
             0.2222222222222222,
             "#7201a8"
            ],
            [
             0.3333333333333333,
             "#9c179e"
            ],
            [
             0.4444444444444444,
             "#bd3786"
            ],
            [
             0.5555555555555556,
             "#d8576b"
            ],
            [
             0.6666666666666666,
             "#ed7953"
            ],
            [
             0.7777777777777778,
             "#fb9f3a"
            ],
            [
             0.8888888888888888,
             "#fdca26"
            ],
            [
             1,
             "#f0f921"
            ]
           ],
           "sequentialminus": [
            [
             0,
             "#0d0887"
            ],
            [
             0.1111111111111111,
             "#46039f"
            ],
            [
             0.2222222222222222,
             "#7201a8"
            ],
            [
             0.3333333333333333,
             "#9c179e"
            ],
            [
             0.4444444444444444,
             "#bd3786"
            ],
            [
             0.5555555555555556,
             "#d8576b"
            ],
            [
             0.6666666666666666,
             "#ed7953"
            ],
            [
             0.7777777777777778,
             "#fb9f3a"
            ],
            [
             0.8888888888888888,
             "#fdca26"
            ],
            [
             1,
             "#f0f921"
            ]
           ]
          },
          "colorway": [
           "#636efa",
           "#EF553B",
           "#00cc96",
           "#ab63fa",
           "#FFA15A",
           "#19d3f3",
           "#FF6692",
           "#B6E880",
           "#FF97FF",
           "#FECB52"
          ],
          "font": {
           "color": "#2a3f5f"
          },
          "geo": {
           "bgcolor": "white",
           "lakecolor": "white",
           "landcolor": "#E5ECF6",
           "showlakes": true,
           "showland": true,
           "subunitcolor": "white"
          },
          "hoverlabel": {
           "align": "left"
          },
          "hovermode": "closest",
          "mapbox": {
           "style": "light"
          },
          "paper_bgcolor": "white",
          "plot_bgcolor": "#E5ECF6",
          "polar": {
           "angularaxis": {
            "gridcolor": "white",
            "linecolor": "white",
            "ticks": ""
           },
           "bgcolor": "#E5ECF6",
           "radialaxis": {
            "gridcolor": "white",
            "linecolor": "white",
            "ticks": ""
           }
          },
          "scene": {
           "xaxis": {
            "backgroundcolor": "#E5ECF6",
            "gridcolor": "white",
            "gridwidth": 2,
            "linecolor": "white",
            "showbackground": true,
            "ticks": "",
            "zerolinecolor": "white"
           },
           "yaxis": {
            "backgroundcolor": "#E5ECF6",
            "gridcolor": "white",
            "gridwidth": 2,
            "linecolor": "white",
            "showbackground": true,
            "ticks": "",
            "zerolinecolor": "white"
           },
           "zaxis": {
            "backgroundcolor": "#E5ECF6",
            "gridcolor": "white",
            "gridwidth": 2,
            "linecolor": "white",
            "showbackground": true,
            "ticks": "",
            "zerolinecolor": "white"
           }
          },
          "shapedefaults": {
           "line": {
            "color": "#2a3f5f"
           }
          },
          "ternary": {
           "aaxis": {
            "gridcolor": "white",
            "linecolor": "white",
            "ticks": ""
           },
           "baxis": {
            "gridcolor": "white",
            "linecolor": "white",
            "ticks": ""
           },
           "bgcolor": "#E5ECF6",
           "caxis": {
            "gridcolor": "white",
            "linecolor": "white",
            "ticks": ""
           }
          },
          "title": {
           "x": 0.05
          },
          "xaxis": {
           "automargin": true,
           "gridcolor": "white",
           "linecolor": "white",
           "ticks": "",
           "title": {
            "standoff": 15
           },
           "zerolinecolor": "white",
           "zerolinewidth": 2
          },
          "yaxis": {
           "automargin": true,
           "gridcolor": "white",
           "linecolor": "white",
           "ticks": "",
           "title": {
            "standoff": 15
           },
           "zerolinecolor": "white",
           "zerolinewidth": 2
          }
         }
        },
        "xaxis": {
         "anchor": "y",
         "domain": [
          0,
          1
         ],
         "title": {
          "text": "Bootstrapped Means"
         }
        },
        "yaxis": {
         "anchor": "x",
         "domain": [
          0,
          1
         ],
         "title": {
          "text": "count"
         }
        }
       }
      },
      "text/html": [
       "<div>                            <div id=\"2b9a6bed-36c3-4718-a6d6-4a1022ce51e4\" class=\"plotly-graph-div\" style=\"height:525px; width:100%;\"></div>            <script type=\"text/javascript\">                require([\"plotly\"], function(Plotly) {                    window.PLOTLYENV=window.PLOTLYENV || {};                                    if (document.getElementById(\"2b9a6bed-36c3-4718-a6d6-4a1022ce51e4\")) {                    Plotly.newPlot(                        \"2b9a6bed-36c3-4718-a6d6-4a1022ce51e4\",                        [{\"alignmentgroup\":\"True\",\"bingroup\":\"x\",\"hovertemplate\":\"Bootstrapped Means=%{x}\\u003cbr\\u003ecount=%{y}\\u003cextra\\u003e\\u003c\\u002fextra\\u003e\",\"legendgroup\":\"\",\"marker\":{\"color\":\"#636efa\",\"pattern\":{\"shape\":\"\"}},\"name\":\"\",\"offsetgroup\":\"\",\"orientation\":\"v\",\"showlegend\":false,\"x\":[2.9,1.9,3.3,3.2,2.8,3.5,3.7,3.7,4.2,4.1,3.5,2.8,2.6,4.1,3.7,1.9,2.4,4.7,4.7,4.5,3.2,1.8,4.7,6.5,3.3,2.6,3.1,4.8,2.8,2.9,4.4,5.4,5.9,2.2,4.0,1.7,2.4,2.4,4.9,3.5,3.3,3.3,1.9,1.8,5.1,4.4,3.0,2.3,3.9,2.8,5.4,4.0,4.5,2.0,4.2,3.0,4.0,-0.2,3.4,4.6,3.2,3.8,4.0,1.9,1.2,4.3,1.8,4.2,5.1,4.6,1.5,1.6,0.9,2.8,3.3,4.5,6.6,3.8,1.2,5.2,3.1,4.7,4.0,2.0,3.9,4.8,1.3,3.7,4.1,2.9,4.6,2.7,3.9,3.2,4.0,3.7,3.3,4.3,3.7,5.8,1.9,5.3,2.7,2.5,2.6,3.9,3.9,1.9,3.9,4.7,3.6,1.8,4.9,4.4,3.5,2.5,4.4,3.7,3.5,3.7,1.3,1.1,0.8,2.5,3.0,2.8,3.5,4.1,2.2,3.4,4.0,4.3,3.3,3.1,3.6,3.0,3.0,3.9,4.3,3.8,3.6,1.9,3.9,3.2,5.0,4.9,2.5,3.6,3.7,3.5,4.2,3.1,3.8,3.2,6.0,6.2,4.0,4.3,3.4,2.5,3.1,2.3,4.2,2.0,3.7,0.8,2.6,4.3,4.9,3.2,2.7,3.7,3.2,1.2,4.1,2.1,4.9,4.1,2.6,3.6,3.1,2.4,2.6,3.2,4.5,3.7,3.6,2.2,1.1,3.5,5.2,2.3,2.6,5.0,2.2,2.1,4.8,1.8,3.8,3.4,4.6,3.8,1.9,4.2,2.5,4.0,4.8,3.1,2.7,2.5,3.1,4.4,1.5,3.6,2.0,4.2,4.8,2.0,3.5,2.5,3.7,3.5,5.7,2.2,4.3,3.7,4.6,4.4,3.5,4.7,2.6,2.5,3.4,4.0,3.5,2.1,2.9,2.8,1.6,4.0,4.3,0.5,4.2,4.0,3.1,3.9,5.1,3.7,5.5,2.1,1.7,2.0,2.8,4.9,5.1,2.6,4.6,1.6,2.7,3.2,3.7,3.3,3.8,2.9,1.2,4.5,1.5,3.5,4.7,3.8,4.5,2.2,0.7,3.3,2.6,5.6,3.9,4.8,3.6,1.4,2.4,3.3,5.6,3.0,4.8,1.0,4.5,1.9,2.7,0.8,5.4,1.6,2.5,5.7,6.2,1.9,1.7,1.5,5.0,2.3,2.7,2.7,3.7,3.7,1.6,5.5,3.3,4.5,4.7,4.1,3.6,5.2,4.7,4.1,3.6,2.7,1.5,4.6,3.6,2.5,4.0,4.8,3.8,2.7,4.4,4.6,4.6,3.6,4.3,3.6,3.8,3.0,3.5,4.9,1.3,2.6,2.5,2.7,3.8,4.5,4.0,3.7,4.4,5.8,3.3,3.7,4.2,3.7,4.7,1.1,3.9,4.1,1.2,1.5,2.3,5.4,2.6,3.8,3.1,2.7,4.4,4.4,3.2,1.2,4.1,5.4,1.7,1.7,2.9,4.2,4.3,3.7,3.6,2.5,4.3,2.8,3.0,2.5,2.5,2.7,4.4,3.9,2.6,0.9,2.1,2.1,2.2,3.2,4.7,4.4,1.6,4.8,6.0,3.9,4.3,3.5,3.7,0.9,2.2,3.1,2.2,1.6,4.1,1.2,5.3,3.2,0.8,3.6,1.9,3.4,4.1,3.6,3.4,3.9,3.8,3.1,3.6,3.5,2.7,3.4,0.4,2.4,1.5,5.3,1.5,4.3,0.8,3.3,3.7,2.2,3.8,0.3,2.5,2.7,3.4,2.3,4.4,0.4,4.9,4.3,4.6,2.6,2.4,3.0,3.3,2.6,2.9,2.4,1.2,3.7,2.8,3.4,2.6,3.1,1.7,1.9,3.1,3.3,3.1,3.5,5.1,2.7,6.2,1.8,1.4,2.8,1.0,5.2,4.7,3.7,2.7,2.1,4.2,1.9,4.1,2.4,2.6,2.7,5.0,2.3,3.3,3.9,1.9,1.9,3.5,2.3,2.0,3.0,3.7,3.0,2.2,2.9,2.4,-0.1,1.9,2.2,3.3,4.5,2.5,4.0,3.4,1.9,4.7,3.4,2.9,3.1,3.2,3.0,3.6,3.2,1.8,-0.2,2.9,2.6,5.0,3.4,2.9,3.2,3.2,1.8,4.3,5.1,2.2,3.4,3.9,4.4,4.0,5.0,1.9,4.1,3.7,1.4,1.8,2.6,3.8,3.0,2.1,4.0,2.4,5.6,3.2,3.0,4.0,2.8,-0.2,4.0,2.9,3.4,3.7,4.7,2.9,4.4,5.0,3.3,4.5,3.2,5.2,3.4,2.0,4.9,4.5,3.7,2.8,4.4,4.5,2.4,3.9,3.9,2.8,4.6,2.8,2.6,4.1,4.5,5.1,3.5,3.4,5.1,5.0,4.8,3.4,3.5,2.4,3.8,4.8,2.6,4.2,3.3,3.2,3.3,4.2,4.1,2.9,1.7,4.5,2.8,4.0,2.2,1.9,4.5,3.7,4.8,4.6,3.2,3.1,1.7,4.2,2.7,3.7,2.9,2.2,2.2,4.1,4.3,5.3,1.8,4.1,3.0,2.7,5.4,4.3,4.4,6.0,3.2,5.0,4.1,3.0,3.5,3.4,5.2,3.7,2.6,3.4,4.4,4.9,2.3,2.3,3.3,4.0,2.2,2.7,3.2,2.5,3.3,2.9,2.8,5.5,3.3,1.7,3.3,4.0,3.4,5.3,2.0,2.1,1.6,3.0,5.6,5.9,5.1,4.7,2.8,4.7,2.2,2.2,2.6,5.8,1.5,2.9,3.3,5.0,2.1,1.1,4.2,2.2,5.1,5.6,2.3,3.5,2.9,3.5,3.2,3.0,3.4,2.8,6.0,0.4,2.3,0.9,3.6,0.9,3.9,4.5,4.2,5.3,2.4,3.7,5.3,3.6,1.8,1.9,4.1,3.6,2.4,4.0,3.5,2.0,2.7,2.8,4.5,4.2,3.3,3.6,3.3,4.0,5.4,3.7,3.7,2.7,3.5,3.0,2.8,2.7,2.8,2.7,3.3,2.8,2.7,3.8,3.6,2.7,5.1,4.7,3.5,3.4,2.7,3.0,4.7,2.0,4.6,3.0,2.0,2.4,3.7,3.9,5.8,3.9,2.9,4.2,1.1,3.8,3.2,3.0,2.3,2.0,5.8,1.0,3.3,4.6,4.6,3.8,3.0,1.7,2.0,1.9,2.6,1.0,4.8,2.0,3.1,4.0,4.4,3.6,3.2,3.9,4.3,5.1,4.8,1.8,3.8,3.9,3.9,3.2,3.5,4.3,2.1,2.5,2.1,3.9,4.1,2.3,3.3,3.3,1.5,1.5,1.6,3.5,4.3,1.7,2.8,4.3,2.8,3.7,1.4,1.7,3.3,1.9,2.3,3.1,3.2,3.0,4.1,5.8,4.5,3.5,2.7,3.6,4.7,3.5,4.6,4.3,2.1,3.5,0.9,6.0,3.2,0.7,1.1,2.8,2.9,3.0,3.8,3.7,3.8,0.7,1.1,3.8,2.5,1.9,3.7,2.2,2.5,3.8,2.6,1.2,3.3,2.5,3.1,2.4,2.9,2.7,4.3,4.1,4.1,1.8,1.9,1.2,4.2,3.4,3.3,3.1,3.4,4.5,5.7,2.9,2.2,4.0,4.2,5.2,4.6,3.4,3.4,3.4,2.6,2.0,4.0,4.5,4.7,4.1,3.9,3.4,3.0,5.5,1.7,2.5,3.9,4.6,2.8,4.3,3.9,1.9,2.1,2.1,1.9,5.4,2.9,0.8,4.9,3.0,3.4,3.4,6.5,2.7,2.8,2.1,3.4,3.0,4.6,3.8,3.5,2.2,4.4,5.4,3.8,1.4,4.5,4.1,1.9,4.2,2.4,2.2,1.8,2.9,3.5,3.7,5.8,3.4,2.3,2.9,2.2,4.2,4.2,3.1,3.8,1.7,5.9,5.5,1.5,4.4,4.6,4.5,2.5,4.2,3.4,3.8,1.4,4.8,1.8,3.7,1.7,3.4,1.6,3.9,3.0,3.9,4.3,5.5,3.4,2.4,4.2,3.3,2.8,3.9,2.1,1.8,4.5,3.1,4.6,3.1,0.9,3.1,4.3,2.9,3.0,2.9,4.1,2.3,3.3,4.2,2.9,2.7,2.2,3.1,3.7,4.3,4.8,1.5,3.9,2.6,3.9,2.9,4.0,3.4,1.6,3.4,3.8,2.6,1.5,3.4,3.9],\"xaxis\":\"x\",\"yaxis\":\"y\",\"type\":\"histogram\"}],                        {\"template\":{\"data\":{\"histogram2dcontour\":[{\"type\":\"histogram2dcontour\",\"colorbar\":{\"outlinewidth\":0,\"ticks\":\"\"},\"colorscale\":[[0.0,\"#0d0887\"],[0.1111111111111111,\"#46039f\"],[0.2222222222222222,\"#7201a8\"],[0.3333333333333333,\"#9c179e\"],[0.4444444444444444,\"#bd3786\"],[0.5555555555555556,\"#d8576b\"],[0.6666666666666666,\"#ed7953\"],[0.7777777777777778,\"#fb9f3a\"],[0.8888888888888888,\"#fdca26\"],[1.0,\"#f0f921\"]]}],\"choropleth\":[{\"type\":\"choropleth\",\"colorbar\":{\"outlinewidth\":0,\"ticks\":\"\"}}],\"histogram2d\":[{\"type\":\"histogram2d\",\"colorbar\":{\"outlinewidth\":0,\"ticks\":\"\"},\"colorscale\":[[0.0,\"#0d0887\"],[0.1111111111111111,\"#46039f\"],[0.2222222222222222,\"#7201a8\"],[0.3333333333333333,\"#9c179e\"],[0.4444444444444444,\"#bd3786\"],[0.5555555555555556,\"#d8576b\"],[0.6666666666666666,\"#ed7953\"],[0.7777777777777778,\"#fb9f3a\"],[0.8888888888888888,\"#fdca26\"],[1.0,\"#f0f921\"]]}],\"heatmap\":[{\"type\":\"heatmap\",\"colorbar\":{\"outlinewidth\":0,\"ticks\":\"\"},\"colorscale\":[[0.0,\"#0d0887\"],[0.1111111111111111,\"#46039f\"],[0.2222222222222222,\"#7201a8\"],[0.3333333333333333,\"#9c179e\"],[0.4444444444444444,\"#bd3786\"],[0.5555555555555556,\"#d8576b\"],[0.6666666666666666,\"#ed7953\"],[0.7777777777777778,\"#fb9f3a\"],[0.8888888888888888,\"#fdca26\"],[1.0,\"#f0f921\"]]}],\"heatmapgl\":[{\"type\":\"heatmapgl\",\"colorbar\":{\"outlinewidth\":0,\"ticks\":\"\"},\"colorscale\":[[0.0,\"#0d0887\"],[0.1111111111111111,\"#46039f\"],[0.2222222222222222,\"#7201a8\"],[0.3333333333333333,\"#9c179e\"],[0.4444444444444444,\"#bd3786\"],[0.5555555555555556,\"#d8576b\"],[0.6666666666666666,\"#ed7953\"],[0.7777777777777778,\"#fb9f3a\"],[0.8888888888888888,\"#fdca26\"],[1.0,\"#f0f921\"]]}],\"contourcarpet\":[{\"type\":\"contourcarpet\",\"colorbar\":{\"outlinewidth\":0,\"ticks\":\"\"}}],\"contour\":[{\"type\":\"contour\",\"colorbar\":{\"outlinewidth\":0,\"ticks\":\"\"},\"colorscale\":[[0.0,\"#0d0887\"],[0.1111111111111111,\"#46039f\"],[0.2222222222222222,\"#7201a8\"],[0.3333333333333333,\"#9c179e\"],[0.4444444444444444,\"#bd3786\"],[0.5555555555555556,\"#d8576b\"],[0.6666666666666666,\"#ed7953\"],[0.7777777777777778,\"#fb9f3a\"],[0.8888888888888888,\"#fdca26\"],[1.0,\"#f0f921\"]]}],\"surface\":[{\"type\":\"surface\",\"colorbar\":{\"outlinewidth\":0,\"ticks\":\"\"},\"colorscale\":[[0.0,\"#0d0887\"],[0.1111111111111111,\"#46039f\"],[0.2222222222222222,\"#7201a8\"],[0.3333333333333333,\"#9c179e\"],[0.4444444444444444,\"#bd3786\"],[0.5555555555555556,\"#d8576b\"],[0.6666666666666666,\"#ed7953\"],[0.7777777777777778,\"#fb9f3a\"],[0.8888888888888888,\"#fdca26\"],[1.0,\"#f0f921\"]]}],\"mesh3d\":[{\"type\":\"mesh3d\",\"colorbar\":{\"outlinewidth\":0,\"ticks\":\"\"}}],\"scatter\":[{\"fillpattern\":{\"fillmode\":\"overlay\",\"size\":10,\"solidity\":0.2},\"type\":\"scatter\"}],\"parcoords\":[{\"type\":\"parcoords\",\"line\":{\"colorbar\":{\"outlinewidth\":0,\"ticks\":\"\"}}}],\"scatterpolargl\":[{\"type\":\"scatterpolargl\",\"marker\":{\"colorbar\":{\"outlinewidth\":0,\"ticks\":\"\"}}}],\"bar\":[{\"error_x\":{\"color\":\"#2a3f5f\"},\"error_y\":{\"color\":\"#2a3f5f\"},\"marker\":{\"line\":{\"color\":\"#E5ECF6\",\"width\":0.5},\"pattern\":{\"fillmode\":\"overlay\",\"size\":10,\"solidity\":0.2}},\"type\":\"bar\"}],\"scattergeo\":[{\"type\":\"scattergeo\",\"marker\":{\"colorbar\":{\"outlinewidth\":0,\"ticks\":\"\"}}}],\"scatterpolar\":[{\"type\":\"scatterpolar\",\"marker\":{\"colorbar\":{\"outlinewidth\":0,\"ticks\":\"\"}}}],\"histogram\":[{\"marker\":{\"pattern\":{\"fillmode\":\"overlay\",\"size\":10,\"solidity\":0.2}},\"type\":\"histogram\"}],\"scattergl\":[{\"type\":\"scattergl\",\"marker\":{\"colorbar\":{\"outlinewidth\":0,\"ticks\":\"\"}}}],\"scatter3d\":[{\"type\":\"scatter3d\",\"line\":{\"colorbar\":{\"outlinewidth\":0,\"ticks\":\"\"}},\"marker\":{\"colorbar\":{\"outlinewidth\":0,\"ticks\":\"\"}}}],\"scattermapbox\":[{\"type\":\"scattermapbox\",\"marker\":{\"colorbar\":{\"outlinewidth\":0,\"ticks\":\"\"}}}],\"scatterternary\":[{\"type\":\"scatterternary\",\"marker\":{\"colorbar\":{\"outlinewidth\":0,\"ticks\":\"\"}}}],\"scattercarpet\":[{\"type\":\"scattercarpet\",\"marker\":{\"colorbar\":{\"outlinewidth\":0,\"ticks\":\"\"}}}],\"carpet\":[{\"aaxis\":{\"endlinecolor\":\"#2a3f5f\",\"gridcolor\":\"white\",\"linecolor\":\"white\",\"minorgridcolor\":\"white\",\"startlinecolor\":\"#2a3f5f\"},\"baxis\":{\"endlinecolor\":\"#2a3f5f\",\"gridcolor\":\"white\",\"linecolor\":\"white\",\"minorgridcolor\":\"white\",\"startlinecolor\":\"#2a3f5f\"},\"type\":\"carpet\"}],\"table\":[{\"cells\":{\"fill\":{\"color\":\"#EBF0F8\"},\"line\":{\"color\":\"white\"}},\"header\":{\"fill\":{\"color\":\"#C8D4E3\"},\"line\":{\"color\":\"white\"}},\"type\":\"table\"}],\"barpolar\":[{\"marker\":{\"line\":{\"color\":\"#E5ECF6\",\"width\":0.5},\"pattern\":{\"fillmode\":\"overlay\",\"size\":10,\"solidity\":0.2}},\"type\":\"barpolar\"}],\"pie\":[{\"automargin\":true,\"type\":\"pie\"}]},\"layout\":{\"autotypenumbers\":\"strict\",\"colorway\":[\"#636efa\",\"#EF553B\",\"#00cc96\",\"#ab63fa\",\"#FFA15A\",\"#19d3f3\",\"#FF6692\",\"#B6E880\",\"#FF97FF\",\"#FECB52\"],\"font\":{\"color\":\"#2a3f5f\"},\"hovermode\":\"closest\",\"hoverlabel\":{\"align\":\"left\"},\"paper_bgcolor\":\"white\",\"plot_bgcolor\":\"#E5ECF6\",\"polar\":{\"bgcolor\":\"#E5ECF6\",\"angularaxis\":{\"gridcolor\":\"white\",\"linecolor\":\"white\",\"ticks\":\"\"},\"radialaxis\":{\"gridcolor\":\"white\",\"linecolor\":\"white\",\"ticks\":\"\"}},\"ternary\":{\"bgcolor\":\"#E5ECF6\",\"aaxis\":{\"gridcolor\":\"white\",\"linecolor\":\"white\",\"ticks\":\"\"},\"baxis\":{\"gridcolor\":\"white\",\"linecolor\":\"white\",\"ticks\":\"\"},\"caxis\":{\"gridcolor\":\"white\",\"linecolor\":\"white\",\"ticks\":\"\"}},\"coloraxis\":{\"colorbar\":{\"outlinewidth\":0,\"ticks\":\"\"}},\"colorscale\":{\"sequential\":[[0.0,\"#0d0887\"],[0.1111111111111111,\"#46039f\"],[0.2222222222222222,\"#7201a8\"],[0.3333333333333333,\"#9c179e\"],[0.4444444444444444,\"#bd3786\"],[0.5555555555555556,\"#d8576b\"],[0.6666666666666666,\"#ed7953\"],[0.7777777777777778,\"#fb9f3a\"],[0.8888888888888888,\"#fdca26\"],[1.0,\"#f0f921\"]],\"sequentialminus\":[[0.0,\"#0d0887\"],[0.1111111111111111,\"#46039f\"],[0.2222222222222222,\"#7201a8\"],[0.3333333333333333,\"#9c179e\"],[0.4444444444444444,\"#bd3786\"],[0.5555555555555556,\"#d8576b\"],[0.6666666666666666,\"#ed7953\"],[0.7777777777777778,\"#fb9f3a\"],[0.8888888888888888,\"#fdca26\"],[1.0,\"#f0f921\"]],\"diverging\":[[0,\"#8e0152\"],[0.1,\"#c51b7d\"],[0.2,\"#de77ae\"],[0.3,\"#f1b6da\"],[0.4,\"#fde0ef\"],[0.5,\"#f7f7f7\"],[0.6,\"#e6f5d0\"],[0.7,\"#b8e186\"],[0.8,\"#7fbc41\"],[0.9,\"#4d9221\"],[1,\"#276419\"]]},\"xaxis\":{\"gridcolor\":\"white\",\"linecolor\":\"white\",\"ticks\":\"\",\"title\":{\"standoff\":15},\"zerolinecolor\":\"white\",\"automargin\":true,\"zerolinewidth\":2},\"yaxis\":{\"gridcolor\":\"white\",\"linecolor\":\"white\",\"ticks\":\"\",\"title\":{\"standoff\":15},\"zerolinecolor\":\"white\",\"automargin\":true,\"zerolinewidth\":2},\"scene\":{\"xaxis\":{\"backgroundcolor\":\"#E5ECF6\",\"gridcolor\":\"white\",\"linecolor\":\"white\",\"showbackground\":true,\"ticks\":\"\",\"zerolinecolor\":\"white\",\"gridwidth\":2},\"yaxis\":{\"backgroundcolor\":\"#E5ECF6\",\"gridcolor\":\"white\",\"linecolor\":\"white\",\"showbackground\":true,\"ticks\":\"\",\"zerolinecolor\":\"white\",\"gridwidth\":2},\"zaxis\":{\"backgroundcolor\":\"#E5ECF6\",\"gridcolor\":\"white\",\"linecolor\":\"white\",\"showbackground\":true,\"ticks\":\"\",\"zerolinecolor\":\"white\",\"gridwidth\":2}},\"shapedefaults\":{\"line\":{\"color\":\"#2a3f5f\"}},\"annotationdefaults\":{\"arrowcolor\":\"#2a3f5f\",\"arrowhead\":0,\"arrowwidth\":1},\"geo\":{\"bgcolor\":\"white\",\"landcolor\":\"#E5ECF6\",\"subunitcolor\":\"white\",\"showland\":true,\"showlakes\":true,\"lakecolor\":\"white\"},\"title\":{\"x\":0.05},\"mapbox\":{\"style\":\"light\"}}},\"xaxis\":{\"anchor\":\"y\",\"domain\":[0.0,1.0],\"title\":{\"text\":\"Bootstrapped Means\"}},\"yaxis\":{\"anchor\":\"x\",\"domain\":[0.0,1.0],\"title\":{\"text\":\"count\"}},\"legend\":{\"tracegroupgap\":0},\"margin\":{\"t\":60},\"barmode\":\"relative\"},                        {\"responsive\": true}                    ).then(function(){\n",
       "                            \n",
       "var gd = document.getElementById('2b9a6bed-36c3-4718-a6d6-4a1022ce51e4');\n",
       "var x = new MutationObserver(function (mutations, observer) {{\n",
       "        var display = window.getComputedStyle(gd).display;\n",
       "        if (!display || display === 'none') {{\n",
       "            console.log([gd, 'removed!']);\n",
       "            Plotly.purge(gd);\n",
       "            observer.disconnect();\n",
       "        }}\n",
       "}});\n",
       "\n",
       "// Listen for the removal of the full notebook cells\n",
       "var notebookContainer = gd.closest('#notebook-container');\n",
       "if (notebookContainer) {{\n",
       "    x.observe(notebookContainer, {childList: true});\n",
       "}}\n",
       "\n",
       "// Listen for the clearing of the current output cell\n",
       "var outputEl = gd.closest('.output');\n",
       "if (outputEl) {{\n",
       "    x.observe(outputEl, {childList: true});\n",
       "}}\n",
       "\n",
       "                        })                };                });            </script>        </div>"
      ]
     },
     "metadata": {},
     "output_type": "display_data"
    }
   ],
   "source": [
    "import numpy as np\n",
    "import pandas as pd\n",
    "import plotly.express as px\n",
    "\n",
    "# Assuming 'df' is your DataFrame and you're interested in the difference between InitialHealthScore and FinalHealthScore\n",
    "df['difference'] = df['FinalHealthScore'] - df['InitialHealthScore']\n",
    "\n",
    "# Parameters for the bootstrap\n",
    "N = 1000\n",
    "boot_means = np.zeros(N)\n",
    "np.random.seed()\n",
    "# Bootstrap process\n",
    "for i in range(N):\n",
    "    boot_sample = np.random.choice(df['difference'], size=len(df['difference']), replace=True)\n",
    "    boot_means[i] = np.mean(boot_sample)\n",
    "\n",
    "# Plotting the distribution of bootstrap means\n",
    "fig = px.histogram(pd.DataFrame({\"Bootstrapped Means\": boot_means}), x=\"Bootstrapped Means\")\n",
    "fig.show()\n"
   ]
  },
  {
   "cell_type": "code",
   "execution_count": 19,
   "id": "57e3708c",
   "metadata": {},
   "outputs": [
    {
     "name": "stdout",
     "output_type": "stream",
     "text": [
      "95% Confidence Interval: [0.9975 5.6   ]\n"
     ]
    }
   ],
   "source": [
    "confidence_level = 0.95\n",
    "lower_percentile = (1 - confidence_level) / 2 * 100\n",
    "upper_percentile = (1 - (1 - confidence_level) / 2) * 100\n",
    "confidence_interval = np.percentile(boot_means, [lower_percentile, upper_percentile])\n",
    "\n",
    "print(\"95% Confidence Interval:\", confidence_interval)"
   ]
  },
  {
   "cell_type": "markdown",
   "id": "49bb26bb",
   "metadata": {},
   "source": [
    "Since the confidence is from 0.8-5.5, the null hypothese which is 0 is not in it. Therefore the hHypothesis is not \"no effect\"."
   ]
  },
  {
   "cell_type": "code",
   "execution_count": null,
   "id": "61460333",
   "metadata": {},
   "outputs": [],
   "source": []
  }
 ],
 "metadata": {
  "kernelspec": {
   "display_name": "Python 3 (ipykernel)",
   "language": "python",
   "name": "python3"
  },
  "language_info": {
   "codemirror_mode": {
    "name": "ipython",
    "version": 3
   },
   "file_extension": ".py",
   "mimetype": "text/x-python",
   "name": "python",
   "nbconvert_exporter": "python",
   "pygments_lexer": "ipython3",
   "version": "3.11.6"
  }
 },
 "nbformat": 4,
 "nbformat_minor": 5
}
